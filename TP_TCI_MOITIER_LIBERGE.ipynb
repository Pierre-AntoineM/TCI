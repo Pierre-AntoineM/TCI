{
 "cells": [
  {
   "cell_type": "code",
   "execution_count": 1,
   "metadata": {},
   "outputs": [
    {
     "name": "stdout",
     "output_type": "stream",
     "text": [
      "Question 1: Calcul de l'entropie de : [1, 0, 0, 1, 0, 1, 1, 0, 1, 1, 0, 1] vaut 0.9798687566511527\n",
      "\n"
     ]
    }
   ],
   "source": [
    "##Lab 1 : Source Coding\n",
    "\n",
    "#Question 1\n",
    "\n",
    "import numpy as np\n",
    "from math import log\n",
    "\n",
    "def entropy(x):\n",
    "    n_x = len(x)\n",
    "\n",
    "    if n_x <= 1:\n",
    "        return 0\n",
    "\n",
    "    ##Obtenir le vecteur des probas\n",
    "    value,counts = np.unique(x, return_counts=True)\n",
    "    probs = counts / n_x\n",
    "    \n",
    "    ##Calcul de l'entropie\n",
    "    entropy = 0.\n",
    "    for i in probs:\n",
    "        entropy -= i * log(i,2)\n",
    "\n",
    "    return entropy\n",
    "\n",
    "x = [1,0,0,1,0,1,1,0,1,1,0,1]\n",
    "\n",
    "print (\"Question 1: Calcul de l'entropie de :\",x,\"vaut\", entropy(x))\n",
    "print (\"\")"
   ]
  },
  {
   "cell_type": "code",
   "execution_count": 2,
   "metadata": {},
   "outputs": [
    {
     "name": "stdout",
     "output_type": "stream",
     "text": [
      "Question 2: Pour un vecteur de taille 10000 , l'entropie vaut 0.9998704709626944\n"
     ]
    }
   ],
   "source": [
    "##Question 2\n",
    "import random\n",
    "\n",
    "def check_entropy(t):\n",
    "    r = []\n",
    "    for a in range(t):\n",
    "        r.append(random.randint(0,1))\n",
    "    return entropy(r)\n",
    "\n",
    "t = 10000\n",
    "print(\"Question 2: Pour un vecteur de taille\", t,\", l'entropie vaut\",check_entropy(t))   "
   ]
  },
  {
   "cell_type": "code",
   "execution_count": 4,
   "metadata": {},
   "outputs": [
    {
     "name": "stdout",
     "output_type": "stream",
     "text": [
      "Question 3: Tracer la variation d'entropie en fonction de a = P[X=0]\n"
     ]
    },
    {
     "data": {
      "image/png": "[encoded data removed]",
      "text/plain": [
       "<Figure size 432x288 with 1 Axes>"
      ]
     },
     "metadata": {
      "needs_background": "light"
     },
     "output_type": "display_data"
    }
   ],
   "source": [
    "##Question 3\n",
    "\n",
    "import matplotlib.pyplot as plt\n",
    "\n",
    "def variations_entropy(leng):\n",
    "    tab_probs = [] \n",
    "    tab_entropy = []  \n",
    "    \n",
    "    for j in range(leng-1):\n",
    "        tab = []\n",
    "        for i in range(leng):\n",
    "            if i <= j:\n",
    "                tab.append(1)\n",
    "            else:\n",
    "                tab.append(0)\n",
    "          \n",
    "        ## Compter le nombre de 0 et de 1 et caluler leurs probas\n",
    "        value,counts = np.unique(tab, return_counts=True)\n",
    "        probs = counts / len(tab)\n",
    "        \n",
    "        ##On construit les 2 vecteurs qu'on veut plot\n",
    "        tab_probs.append(probs[0])         ##vecteurs P[X=0]\n",
    "        tab_entropy.append(entropy(tab))   ##vecteurs des variations de l'entropie\n",
    "        \n",
    "    ## plot\n",
    "    plt.plot(tab_probs,tab_entropy)\n",
    "    plt.ylabel(\"Variation d'entropie\")\n",
    "    plt.xlabel(\"P[X=0]\")\n",
    "\n",
    "print(\"Question 3: Tracer la variation d'entropie en fonction de a = P[X=0]\")\n",
    "variations_entropy(20)\n",
    "        "
   ]
  },
  {
   "cell_type": "code",
   "execution_count": 5,
   "metadata": {},
   "outputs": [
    {
     "name": "stdout",
     "output_type": "stream",
     "text": [
      "p0 = p01/(1-p00+p01)\n",
      "p1 = (1-p00)/(1-p00+p01)\n",
      "H(Sk) = -(p00*log2(p00) + p10*log2(p10))*p0-(p01*log2(p01)+p11*log2(p11))*p1\n"
     ]
    }
   ],
   "source": [
    "##Question 4\n",
    "\n",
    "print(\"p0 = p01/(1-p00+p01)\")\n",
    "print(\"p1 = (1-p00)/(1-p00+p01)\")\n",
    "\n",
    "print(\"H(Sk) = -(p00*log2(p00) + p10*log2(p10))*p0-(p01*log2(p01)+p11*log2(p11))*p1\")\n",
    "\n",
    "    \n"
   ]
  },
  {
   "cell_type": "code",
   "execution_count": 2,
   "metadata": {},
   "outputs": [],
   "source": []
  },
  {
   "cell_type": "code",
   "execution_count": 5,
   "metadata": {},
   "outputs": [
    {
     "data": {
      "text/plain": [
       "<matplotlib.image.AxesImage at 0x221de076a88>"
      ]
     },
     "execution_count": 5,
     "metadata": {},
     "output_type": "execute_result"
    },
    {
     "data": {
      "image/png": "[encoded data removed]",
      "text/plain": [
       "<Figure size 432x288 with 1 Axes>"
      ]
     },
     "metadata": {
      "needs_background": "light"
     },
     "output_type": "display_data"
    }
   ],
   "source": [
    "##Lab 2 Lossy Image Compression\n",
    "\n",
    "##Question 1,2,3\n",
    "\n",
    "from matplotlib.pyplot import imread,imsave,imshow\n",
    "from sklearn.cluster import KMeans\n",
    "import numpy as np\n",
    "\n",
    " \n",
    "k = 10\n",
    "\n",
    "img = imread(\"bird_small.tiff\")\n",
    "height,width,depth = img.shape\n",
    " \n",
    "img_ = img.reshape(height*width,3) #nouvelle vue de l'image comme un tableau à deux dimesion Npixels x 3\n",
    "\n",
    "r = []\n",
    "g = []\n",
    "b = []\n",
    "for a in range(np.shape(img_)[0]): ##on récupère les vecteurs red green et blue (cf Lab 3)\n",
    "    r.append(img_[a][0])\n",
    "    g.append(img_[a][1])\n",
    "    b.append(img_[a][2])\n",
    "\n",
    "kmeans = KMeans(n_clusters = k, random_state = 0).fit(img_) # calcul les k moyennes\n",
    "label = kmeans.labels_\n",
    "new = kmeans.cluster_centers_[label,:]\n",
    "\n",
    "new_ = new.reshape(img.shape)\n",
    "imshow(new_.astype('uint8'))\n",
    "\n"
   ]
  },
  {
   "cell_type": "code",
   "execution_count": 16,
   "metadata": {},
   "outputs": [
    {
     "name": "stdout",
     "output_type": "stream",
     "text": [
      "Le coding rate R(k) vaut log2(k) arrondi à l'entier supérieur\n",
      "Par exemple pour k=6, il faut 3 bits pour coder les différents pixels.\n"
     ]
    }
   ],
   "source": [
    "##Question 4\n",
    "\n",
    "print(\"Le coding rate R(k) vaut log2(k) arrondi à l'entier supérieur\")\n",
    "print(\"Par exemple pour k=6, il faut 3 bits pour coder les différents pixels.\")"
   ]
  },
  {
   "cell_type": "code",
   "execution_count": 12,
   "metadata": {},
   "outputs": [
    {
     "name": "stdout",
     "output_type": "stream",
     "text": [
      "[74168694.7325928, 42503768.469825715, 29270681.867846563, 23670586.84511469, 19398086.352262177, 16917702.761942234, 14871163.159458319, 13554521.71220348, 12225220.488263352, 11100841.282155024, 10100745.933817917, 9368154.364106093, 8724685.883115726, 8124419.508765994, 7655261.703897513, 7264699.526149284, 6886252.364919776, 6550127.987386466, 6257481.9769388]\n"
     ]
    },
    {
     "data": {
      "text/plain": [
       "<matplotlib.image.AxesImage at 0x221de7e9ac8>"
      ]
     },
     "execution_count": 12,
     "metadata": {},
     "output_type": "execute_result"
    },
    {
     "data": {
      "image/png": "[encoded data removed]",
      "text/plain": [
       "<Figure size 432x288 with 1 Axes>"
      ]
     },
     "metadata": {
      "needs_background": "light"
     },
     "output_type": "display_data"
    }
   ],
   "source": [
    "from matplotlib.pyplot import imread,imsave,imshow\n",
    "from sklearn.cluster import KMeans\n",
    "import numpy as np\n",
    "\n",
    "\n",
    "img = imread(\"bird_small.tiff\")\n",
    "height,width,depth = img.shape\n",
    " \n",
    "img_ = img.reshape(height*width,3) #nouvelle vue de l'image comme un tableau à deux dimesion Npixels x 3\n",
    "distortion = []\n",
    "for k in range(2,21):\n",
    "    kmeans = KMeans(n_clusters = k, random_state = 0).fit(img_) # calcul les k moyennes\n",
    "    label = kmeans.labels_\n",
    "    distortion.append(kmeans.inertia_)\n",
    "print(distortion)\n",
    "\n",
    "new = kmeans.cluster_centers_[label,:]\n",
    "new_ = new.reshape(img.shape)\n",
    "imshow(new_.astype('uint8'))"
   ]
  },
  {
   "cell_type": "code",
   "execution_count": 15,
   "metadata": {},
   "outputs": [
    {
     "name": "stdout",
     "output_type": "stream",
     "text": [
      "On voit que la distorsion décroit avec le nombre de clusters.\n",
      "Comme attendu car plus on a de centroïdes plus la distance des points d'origine à ces centroïdes diminuent.\n"
     ]
    },
    {
     "data": {
      "image/png": "[encoded data removed]",
      "text/plain": [
       "<Figure size 432x288 with 1 Axes>"
      ]
     },
     "metadata": {
      "needs_background": "light"
     },
     "output_type": "display_data"
    }
   ],
   "source": [
    "##Question 5\n",
    "\n",
    "plt.plot([2,3,4,5,6,7,8,9,10,11,12,13,14,15,16,17,18,19,20],distortion)\n",
    "plt.xlabel(\"k\")\n",
    "plt.ylabel(\"distorsion\")\n",
    "print(\"On voit que la distorsion décroit avec le nombre de clusters.\")\n",
    "print(\"Comme attendu car plus on a de centroïdes plus la distance des points d'origine à ces centroïdes diminuent.\")"
   ]
  },
  {
   "cell_type": "code",
   "execution_count": null,
   "metadata": {},
   "outputs": [],
   "source": []
  },
  {
   "cell_type": "code",
   "execution_count": 7,
   "metadata": {},
   "outputs": [
    {
     "name": "stdout",
     "output_type": "stream",
     "text": [
      "L'information mutuelle entre les 2 vecteurs vaut : 0.011580457284801948\n"
     ]
    }
   ],
   "source": [
    "##Lab 3 Mutual information calculation\n",
    "\n",
    "##Question 1\n",
    "\n",
    "import numpy as np\n",
    "import warnings\n",
    "warnings.filterwarnings('ignore')\n",
    "\n",
    "def jointEntropy(X, Y):\n",
    "    probs = []\n",
    "    for c1 in set(X):\n",
    "        for c2 in set(Y):\n",
    "            probs.append(np.mean(np.logical_and(X == c1, Y == c2)))\n",
    "    return np.sum(-p * np.log2(p) for p in probs if p > 0)\n",
    "\n",
    "\n",
    "def I(x,y):\n",
    "    return entropy(x) + entropy(y) - jointEntropy(x,y)\n",
    "\n",
    "\n",
    "                  \n",
    "x = np.array([1,0,0,1,1,1,1,0,1,1,0,1])\n",
    "y = np.array([0,0,1,1,0,0,0,0,1,0,0,1])\n",
    "\n",
    "\n",
    "res = I(x,y)\n",
    "print(\"L'information mutuelle entre les 2 vecteurs vaut :\", res)\n"
   ]
  },
  {
   "cell_type": "code",
   "execution_count": 8,
   "metadata": {},
   "outputs": [
    {
     "name": "stdout",
     "output_type": "stream",
     "text": [
      "3.2130085997198012 2.6495812228898714 2.87439198099292\n",
      "Le minimum d'information mutuelle est atteint pour les vecteurs red et blue\n"
     ]
    }
   ],
   "source": [
    "##Question 2\n",
    "\n",
    "Irg = I(r,g)\n",
    "Irb = I(r,b)\n",
    "Ibg = I(b,g)\n",
    "\n",
    "print(Irg, Irb, Ibg)\n",
    "print(\"Le minimum d'information mutuelle est atteint pour les vecteurs red et blue\")"
   ]
  },
  {
   "cell_type": "code",
   "execution_count": null,
   "metadata": {},
   "outputs": [],
   "source": []
  }
 ],
 "metadata": {
  "kernelspec": {
   "display_name": "Python 3",
   "language": "python",
   "name": "python3"
  },
  "language_info": {
   "codemirror_mode": {
    "name": "ipython",
    "version": 3
   },
   "file_extension": ".py",
   "mimetype": "text/x-python",
   "name": "python",
   "nbconvert_exporter": "python",
   "pygments_lexer": "ipython3",
   "version": "3.7.4"
  }
 },
 "nbformat": 4,
 "nbformat_minor": 2
}
